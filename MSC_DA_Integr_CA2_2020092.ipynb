{
 "cells": [
  {
   "cell_type": "markdown",
   "id": "ae4dc247",
   "metadata": {},
   "source": [
    "## Statistics\n"
   ]
  },
  {
   "cell_type": "markdown",
   "id": "f22245db",
   "metadata": {},
   "source": [
    "## One-sample t-tests"
   ]
  },
  {
   "cell_type": "code",
   "execution_count": 1,
   "id": "8f9cbda7",
   "metadata": {},
   "outputs": [
    {
     "data": {
      "text/plain": [
       "array([26.43804669, 33.76883189, 29.77748461, 32.25906169, 36.72550854,\n",
       "       32.66168944, 36.7509395 , 34.30605687, 37.39342869, 24.77311435,\n",
       "       26.05505488, 23.69197027, 32.81423393, 28.78336874, 34.56870352,\n",
       "       31.58675461, 30.6365164 , 40.75191484, 33.03144328, 29.86614175,\n",
       "       25.07919609, 35.95352636, 34.76415306, 24.56409205, 29.27394334,\n",
       "       31.18928919, 21.80453294, 28.60932742, 36.9961921 , 21.92446018,\n",
       "       32.45435916, 39.46371109, 26.89510149, 27.73123809, 31.0872583 ,\n",
       "       32.57164428, 31.98620663, 22.43577442, 26.17983015, 30.50634893])"
      ]
     },
     "execution_count": 1,
     "metadata": {},
     "output_type": "execute_result"
    }
   ],
   "source": [
    "# Generate an array of 40 values that follow a N(30, 5) distribution\n",
    "from numpy import random\n",
    "random.seed(13)\n",
    "out = random.normal(loc=30, scale=5, size=40)\n",
    "out"
   ]
  },
  {
   "cell_type": "code",
   "execution_count": 2,
   "id": "1b4ca01d",
   "metadata": {},
   "outputs": [
    {
     "data": {
      "text/plain": [
       "30.702761244394896"
      ]
     },
     "execution_count": 2,
     "metadata": {},
     "output_type": "execute_result"
    }
   ],
   "source": [
    "out.mean()"
   ]
  },
  {
   "cell_type": "code",
   "execution_count": 6,
   "id": "62293e5c",
   "metadata": {},
   "outputs": [
    {
     "data": {
      "text/plain": [
       "Ttest_1sampResult(statistic=0.9174340472708916, pvalue=0.3645541759696719)"
      ]
     },
     "execution_count": 6,
     "metadata": {},
     "output_type": "execute_result"
    }
   ],
   "source": [
    "from scipy import stats\n",
    "\n",
    "# Run the test:\n",
    "stats.ttest_1samp(out, popmean=30)"
   ]
  },
  {
   "cell_type": "code",
   "execution_count": 8,
   "id": "79d426ef",
   "metadata": {},
   "outputs": [
    {
     "data": {
      "text/plain": [
       "<matplotlib.lines.Line2D at 0x214596855e0>"
      ]
     },
     "execution_count": 8,
     "metadata": {},
     "output_type": "execute_result"
    },
    {
     "data": {
      "image/png": "[encoded data removed]",
      "text/plain": [
       "<Figure size 640x480 with 1 Axes>"
      ]
     },
     "metadata": {},
     "output_type": "display_data"
    }
   ],
   "source": [
    "# Producing a plot of the data:\n",
    "import matplotlib.pyplot as plt\n",
    "result = plt.hist(out, bins=7, color='c', edgecolor='k', alpha=0.65)\n",
    "plt.axvline(out.mean(), color='k', linestyle='dashed', linewidth=2) # Sample mean\n",
    "#plt.axvline(mu, color='red', linestyle='solid', linewidth=2) # Hypothesised mu"
   ]
  },
  {
   "cell_type": "markdown",
   "id": "f5805072",
   "metadata": {},
   "source": [
    "## One-tailed Tests"
   ]
  },
  {
   "cell_type": "code",
   "execution_count": 9,
   "id": "16353508",
   "metadata": {},
   "outputs": [
    {
     "data": {
      "text/plain": [
       "Ttest_1sampResult(statistic=0.9174340472708916, pvalue=0.18227708798483594)"
      ]
     },
     "execution_count": 9,
     "metadata": {},
     "output_type": "execute_result"
    }
   ],
   "source": [
    "# We just need to run:\n",
    "from scipy import stats\n",
    "stats.ttest_1samp(out, popmean=30, alternative = \"greater\")"
   ]
  },
  {
   "cell_type": "code",
   "execution_count": 10,
   "id": "bc780d79",
   "metadata": {},
   "outputs": [
    {
     "data": {
      "text/plain": [
       "5"
      ]
     },
     "execution_count": 10,
     "metadata": {},
     "output_type": "execute_result"
    }
   ],
   "source": [
    "import numpy as np\n",
    "random.seed(13)\n",
    "rvs = random.normal(size=(100, 50), loc = 30, scale = 5)\n",
    "res = stats.ttest_1samp(rvs, popmean=30, axis=1)\n",
    "np.sum(res.pvalue < 0.05)"
   ]
  },
  {
   "cell_type": "code",
   "execution_count": 11,
   "id": "2651da4c",
   "metadata": {},
   "outputs": [
    {
     "ename": "ModuleNotFoundError",
     "evalue": "No module named 'pydataset'",
     "output_type": "error",
     "traceback": [
      "\u001b[1;31m---------------------------------------------------------------------------\u001b[0m",
      "\u001b[1;31mModuleNotFoundError\u001b[0m                       Traceback (most recent call last)",
      "\u001b[1;32m~\\AppData\\Local\\Temp\\ipykernel_5404\\1918755606.py\u001b[0m in \u001b[0;36m<module>\u001b[1;34m\u001b[0m\n\u001b[0;32m      6\u001b[0m \u001b[1;33m\u001b[0m\u001b[0m\n\u001b[0;32m      7\u001b[0m \u001b[1;31m# Import package\u001b[0m\u001b[1;33m\u001b[0m\u001b[1;33m\u001b[0m\u001b[0m\n\u001b[1;32m----> 8\u001b[1;33m \u001b[1;32mfrom\u001b[0m \u001b[0mpydataset\u001b[0m \u001b[1;32mimport\u001b[0m \u001b[0mdata\u001b[0m\u001b[1;33m\u001b[0m\u001b[1;33m\u001b[0m\u001b[0m\n\u001b[0m\u001b[0;32m      9\u001b[0m \u001b[1;31m# Check out datasets\u001b[0m\u001b[1;33m\u001b[0m\u001b[1;33m\u001b[0m\u001b[0m\n\u001b[0;32m     10\u001b[0m \u001b[0mdata\u001b[0m\u001b[1;33m(\u001b[0m\u001b[1;33m)\u001b[0m\u001b[1;33m\u001b[0m\u001b[1;33m\u001b[0m\u001b[0m\n",
      "\u001b[1;31mModuleNotFoundError\u001b[0m: No module named 'pydataset'"
     ]
    }
   ],
   "source": [
    "# Create a function to glimpse the data\n",
    "def glimpse(df):\n",
    "    print(f\"{df.shape[0]} rows and {df.shape[1]} columns\")\n",
    "    display(df.head())\n",
    "    display(df.tail())\n",
    "\n",
    "# Import package\n",
    "from pydataset import data\n",
    "# Check out datasets\n",
    "data()"
   ]
  },
  {
   "cell_type": "code",
   "execution_count": 12,
   "id": "2d73d880",
   "metadata": {},
   "outputs": [
    {
     "ename": "NameError",
     "evalue": "name 'data' is not defined",
     "output_type": "error",
     "traceback": [
      "\u001b[1;31m---------------------------------------------------------------------------\u001b[0m",
      "\u001b[1;31mNameError\u001b[0m                                 Traceback (most recent call last)",
      "\u001b[1;32m~\\AppData\\Local\\Temp\\ipykernel_5404\\3392624593.py\u001b[0m in \u001b[0;36m<module>\u001b[1;34m\u001b[0m\n\u001b[0;32m      1\u001b[0m \u001b[1;31m# Load as a dataframe\u001b[0m\u001b[1;33m\u001b[0m\u001b[1;33m\u001b[0m\u001b[0m\n\u001b[1;32m----> 2\u001b[1;33m \u001b[0mdf\u001b[0m \u001b[1;33m=\u001b[0m \u001b[0mdata\u001b[0m\u001b[1;33m(\u001b[0m\u001b[1;34m'iris'\u001b[0m\u001b[1;33m)\u001b[0m\u001b[1;33m\u001b[0m\u001b[1;33m\u001b[0m\u001b[0m\n\u001b[0m\u001b[0;32m      3\u001b[0m \u001b[0mglimpse\u001b[0m\u001b[1;33m(\u001b[0m\u001b[0mdf\u001b[0m\u001b[1;33m)\u001b[0m\u001b[1;33m\u001b[0m\u001b[1;33m\u001b[0m\u001b[0m\n",
      "\u001b[1;31mNameError\u001b[0m: name 'data' is not defined"
     ]
    }
   ],
   "source": [
    "# Load as a dataframe\n",
    "df = data('iris')\n",
    "glimpse(df)"
   ]
  },
  {
   "cell_type": "code",
   "execution_count": null,
   "id": "e33fcc39",
   "metadata": {},
   "outputs": [],
   "source": [
    "# from scipy import stats\n",
    "# stats.ttest_1samp(df['Sepal.Length'], popmean=5.5, alternative = \"greater\")\n",
    "\n",
    "# from scipy import stats\n",
    "# df1 = df[(df.Species=='virginica')]\n",
    "# stats.ttest_1samp(df1['Petal.Width'], popmean=2)"
   ]
  },
  {
   "cell_type": "markdown",
   "id": "36fe316a",
   "metadata": {},
   "source": [
    "## Two-sample t-tests"
   ]
  },
  {
   "cell_type": "code",
   "execution_count": 13,
   "id": "d3e44cd6",
   "metadata": {},
   "outputs": [],
   "source": [
    "# Import the library\n",
    "import scipy.stats as stats\n",
    "import numpy as np\n",
    " \n",
    "# Creating data groups\n",
    "data_group1 = np.array([14, 15, 15, 16, 13, 8, 14,\n",
    "                        17, 16, 14, 19, 20, 21, 15,\n",
    "                        15, 16, 16, 13, 14, 12])\n",
    " \n",
    "data_group2 = np.array([15, 17, 14, 17, 14, 8, 12,\n",
    "                        19, 19, 14, 17, 22, 24, 16,\n",
    "                        13, 16, 13, 18, 15, 13])"
   ]
  },
  {
   "cell_type": "code",
   "execution_count": 14,
   "id": "82535669",
   "metadata": {},
   "outputs": [
    {
     "name": "stdout",
     "output_type": "stream",
     "text": [
      "15.15 15.8\n"
     ]
    }
   ],
   "source": [
    "print(data_group1.mean(), data_group2.mean())"
   ]
  },
  {
   "cell_type": "code",
   "execution_count": null,
   "id": "5e4f9b1c",
   "metadata": {},
   "outputs": [],
   "source": []
  }
 ],
 "metadata": {
  "celltoolbar": "Raw Cell Format",
  "kernelspec": {
   "display_name": "Python 3 (ipykernel)",
   "language": "python",
   "name": "python3"
  },
  "language_info": {
   "codemirror_mode": {
    "name": "ipython",
    "version": 3
   },
   "file_extension": ".py",
   "mimetype": "text/x-python",
   "name": "python",
   "nbconvert_exporter": "python",
   "pygments_lexer": "ipython3",
   "version": "3.9.13"
  }
 },
 "nbformat": 4,
 "nbformat_minor": 5
}
